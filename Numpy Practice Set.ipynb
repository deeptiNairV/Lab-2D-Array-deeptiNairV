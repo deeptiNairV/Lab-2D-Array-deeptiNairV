{
 "cells": [
  {
   "cell_type": "markdown",
   "metadata": {},
   "source": [
    "Subtract the 1D Array *arr2* from the 2D array *arr1*, such that each item of *arr2* subtracts from respective row of *arr1*\n",
    "\n",
    "Ex\n",
    "\n",
    "arr1 = `[[x1, x2 , x3], [y1, y2, y3], [z1,z2,z3]]`\n",
    "\n",
    "arr2 = `[x,y,z]`\n",
    "\n",
    "Result `[ [ x1-x, x2-x, x3-x],` etc"
   ]
  },
  {
   "cell_type": "code",
   "execution_count": 174,
   "metadata": {},
   "outputs": [
    {
     "name": "stdout",
     "output_type": "stream",
     "text": [
      "[0 1 2 3 4]\n",
      "[4 5 6 7 8]\n",
      "[ 8  9 10 11 12]\n"
     ]
    }
   ],
   "source": [
    "#Name:Deepti Nair\n",
    "#email:dnair1@uncc.edu\n",
    "\n",
    "import numpy as np\n",
    "a = np.arange(15).reshape(3, 5)\n",
    "b = np.arange(3)\n",
    "for i in range(len(a)):\n",
    "    for j in range(len(b)):\n",
    "        if(i==j):\n",
    "            print(a[i]-b[j])\n",
    "          \n",
    "\n"
   ]
  },
  {
   "cell_type": "markdown",
   "metadata": {},
   "source": [
    "Given a 1D Array, find the local maxima (numbers surrounded by 2 smaller numbers)"
   ]
  },
  {
   "cell_type": "code",
   "execution_count": 175,
   "metadata": {},
   "outputs": [
    {
     "name": "stdout",
     "output_type": "stream",
     "text": [
      "4\n"
     ]
    }
   ],
   "source": [
    "#Print the number which is bigger and surrounded by two smaller numbers\n",
    "p = np.array([(100,2,3,1,4,3,6,20)])\n",
    "max = 0\n",
    "for i in range(len(p)):\n",
    "    max = 0\n",
    "    s = p.size\n",
    "    for j in range(1,s-1):\n",
    "        if(p[i][j]>p[i][j+1] and p[i][j]>p[i][j-1]):\n",
    "            if(max < p[i][j]):\n",
    "                max = p[i][j]\n",
    "print(max)"
   ]
  },
  {
   "cell_type": "markdown",
   "metadata": {},
   "source": [
    "Given two n x m Arrays, compute the average of elements in matching subarrays\n",
    "\n",
    "Ex\n",
    "\n",
    "arr1      \n",
    "`[[1,1],[2,2],[3,3]]`\n",
    "\n",
    "arr2      \n",
    "`[[1,1],[2,2],[3,3]]`\n",
    "\n",
    "result:\n",
    "`[1,2,3]`\n",
    "\n"
   ]
  },
  {
   "cell_type": "code",
   "execution_count": 177,
   "metadata": {},
   "outputs": [
    {
     "name": "stdout",
     "output_type": "stream",
     "text": [
      "[15, 20, 40]\n"
     ]
    }
   ],
   "source": [
    "\n",
    "x = [[10, 20], [20, 20],[30, 10]]\n",
    "y = [[20, 10], [20, 20],[90, 30]]\n",
    "avgLst = []\n",
    "\n",
    "for i,j in zip(x,y):\n",
    "    val = 0\n",
    "    totalLen = len(i)+len(j)\n",
    "    for ii in range(len(i)):\n",
    "        val += i[ii]\n",
    "    for jj in range(len(j)):\n",
    "        val += j[jj]\n",
    "    avgLst.append(int(val/totalLen))\n",
    "print(avgLst)\n"
   ]
  },
  {
   "cell_type": "code",
   "execution_count": null,
   "metadata": {},
   "outputs": [],
   "source": []
  }
 ],
 "metadata": {
  "kernelspec": {
   "display_name": "Python 3 (ipykernel)",
   "language": "python",
   "name": "python3"
  },
  "language_info": {
   "codemirror_mode": {
    "name": "ipython",
    "version": 3
   },
   "file_extension": ".py",
   "mimetype": "text/x-python",
   "name": "python",
   "nbconvert_exporter": "python",
   "pygments_lexer": "ipython3",
   "version": "3.9.7"
  }
 },
 "nbformat": 4,
 "nbformat_minor": 4
}
